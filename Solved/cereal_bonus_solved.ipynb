{
 "cells": [
  {
   "cell_type": "markdown",
   "id": "c6fd23d6",
   "metadata": {},
   "source": [
    "# Cereal Cleaner\n",
    "\n",
    "In this activity, you will create an application that reads in cereal data from a CSV file and then prints only those cereals that contain 5 or more grams of fiber.\n",
    "\n",
    "## Instructions\n",
    "\n",
    "* Open the file, `cereal.csv` and start by skipping the header row. See hints below for this.\n",
    "\n",
    "* Read through the remaining rows and find the cereals that contain five grams of fiber or more, printing the data from those rows to the terminal.\n",
    "\n",
    "## Hints\n",
    "\n",
    "* Every value within the csv is stored as a string, and certain values have a decimal. This means that they will have to be cast to be used.\n",
    "\n",
    "* `csv.reader` begins reading the CSV file from the first row. `next(csv_reader, None)` will skip the header row.\n",
    "\n",
    "  * Refer to this Stack Overflow post on [how to skip the header](https://stackoverflow.com/a/14257599) for more information.\n",
    "\n",
    "* Integers in Python are whole numbers and, as such, cannot contain decimals. Decimal numbers As such, your numbers containing decimal points will have to be cast as a `float`.\n",
    "\n",
    "## Bonus\n",
    "\n",
    "Try the activity again, but this time use `cereal_bonus.csv`, which does not include a header.\n",
    "\n",
    "## References\n",
    "\n",
    "Crawford, C. (2017, October 24). 80 cereals. [https://www.kaggle.com/crawford/80-cereals](https://www.kaggle.com/crawford/80-cereals), originally sourced from [http://lib.stat.cmu.edu/datasets/1993.expo/](http://lib.stat.cmu.edu/datasets/1993.expo/)\n",
    "\n",
    "—\n",
    "\n",
    "© 2022 edX Boot Camps LLC. Confidential and Proprietary. All Rights Reserved.\n"
   ]
  },
  {
   "cell_type": "code",
   "execution_count": null,
   "id": "010d91f1",
   "metadata": {},
   "outputs": [],
   "source": [
    "import os\n",
    "import csv"
   ]
  },
  {
   "cell_type": "code",
   "execution_count": null,
   "id": "2bd539b5",
   "metadata": {},
   "outputs": [],
   "source": [
    "cereal_csv = os.path.join(\"..\", \"Resources\", \"cereal_bonus.csv\")"
   ]
  },
  {
   "cell_type": "code",
   "execution_count": null,
   "id": "d453338b",
   "metadata": {},
   "outputs": [],
   "source": [
    "with open(cereal_csv) as csvfile:\n",
    "    csv_reader = csv.reader(csvfile, delimiter=\",\")\n",
    "\n",
    "    # @NOTE: This time, we do not use `next(csv_reader)` because there is no header for this file\n",
    "\n",
    "    # Read through each row of data after the header\n",
    "    for row in csv_reader:\n",
    "\n",
    "        # Convert row to float and compare to grams of fiber\n",
    "        if float(row[7]) >= 5:\n",
    "            print(row)"
   ]
  }
 ],
 "metadata": {
  "kernelspec": {
   "display_name": "Python 3 (ipykernel)",
   "language": "python",
   "name": "python3"
  },
  "language_info": {
   "codemirror_mode": {
    "name": "ipython",
    "version": 3
   },
   "file_extension": ".py",
   "mimetype": "text/x-python",
   "name": "python",
   "nbconvert_exporter": "python",
   "pygments_lexer": "ipython3",
   "version": "3.9.13"
  }
 },
 "nbformat": 4,
 "nbformat_minor": 5
}
